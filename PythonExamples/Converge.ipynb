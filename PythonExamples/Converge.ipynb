from scipy.stats import norm

# Generate precise PDF curves for different Z_n and compare with Z ~ N(0,1)
fig, ax = plt.subplots(figsize=(10, 6))

# Plot standard normal distribution
ax.plot(x, standard_normal, 'r--', label='$Z \\sim \\mathcal{N}(0,1)$')

# Plot Z_n distributions
for n in n_vals:
    variance = 1 + 1/n
    pdf_zn = norm.pdf(x, loc=0, scale=np.sqrt(variance))
    ax.plot(x, pdf_zn, label=f'$Z_n \\sim \\mathcal{{N}}(0, 1 + 1/{n})$')

ax.set_title("Comparison of $Z_n$ Distributions with $Z \\sim \\mathcal{N}(0,1)$", fontsize=14)
ax.set_xlabel("x")
ax.set_ylabel("Density")
ax.legend()
plt.grid(True)
plt.show()
